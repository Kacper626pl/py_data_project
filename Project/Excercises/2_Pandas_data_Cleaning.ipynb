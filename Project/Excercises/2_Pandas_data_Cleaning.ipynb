{
 "cells": [
  {
   "cell_type": "code",
   "execution_count": 2,
   "id": "8600d7ad",
   "metadata": {},
   "outputs": [],
   "source": [
    "# Importing Libraries\n",
    "import pandas as pd\n",
    "from datasets import load_dataset\n",
    "import matplotlib.pyplot as plt  \n",
    "\n",
    "# Loading Data\n",
    "dataset = load_dataset('lukebarousse/data_jobs')\n",
    "df = dataset['train'].to_pandas()\n",
    "\n",
    "# Data Cleanup\n",
    "df['job_posted_date'] = pd.to_datetime(df['job_posted_date'])"
   ]
  },
  {
   "cell_type": "code",
   "execution_count": 42,
   "id": "fe8868bd",
   "metadata": {},
   "outputs": [
    {
     "data": {
      "text/plain": [
       "45.97999954223633"
      ]
     },
     "execution_count": 42,
     "metadata": {},
     "output_type": "execute_result"
    }
   ],
   "source": [
    "median_salary_year = df['salary_year_avg'].median()\n",
    "median_salary_hour = df['salary_hour_avg'].median()\n",
    "median_salary_hour"
   ]
  },
  {
   "cell_type": "code",
   "execution_count": 41,
   "id": "22c4de08",
   "metadata": {},
   "outputs": [
    {
     "data": {
      "application/vnd.microsoft.datawrangler.viewer.v0+json": {
       "columns": [
        {
         "name": "index",
         "rawType": "int64",
         "type": "integer"
        },
        {
         "name": "salary_year_avg",
         "rawType": "float64",
         "type": "float"
        },
        {
         "name": "salary_hour_avg",
         "rawType": "float64",
         "type": "float"
        }
       ],
       "ref": "a65206bf-8334-4c1d-b07f-d7291ea9aafc",
       "rows": [
        [
         "0",
         "115000.0",
         "45.97999954223633"
        ],
        [
         "1",
         "115000.0",
         "45.97999954223633"
        ],
        [
         "2",
         "115000.0",
         "45.97999954223633"
        ],
        [
         "3",
         "115000.0",
         "45.97999954223633"
        ],
        [
         "4",
         "115000.0",
         "45.97999954223633"
        ],
        [
         "5",
         "115000.0",
         "45.97999954223633"
        ],
        [
         "6",
         "115000.0",
         "45.97999954223633"
        ],
        [
         "7",
         "115000.0",
         "45.97999954223633"
        ],
        [
         "8",
         "115000.0",
         "45.97999954223633"
        ],
        [
         "9",
         "115000.0",
         "45.97999954223633"
        ],
        [
         "10",
         "115000.0",
         "45.97999954223633"
        ],
        [
         "11",
         "115000.0",
         "45.97999954223633"
        ],
        [
         "12",
         "115000.0",
         "45.97999954223633"
        ],
        [
         "13",
         "115000.0",
         "45.97999954223633"
        ],
        [
         "14",
         "115000.0",
         "45.97999954223633"
        ],
        [
         "15",
         "115000.0",
         "45.97999954223633"
        ],
        [
         "16",
         "115000.0",
         "45.97999954223633"
        ],
        [
         "17",
         "115000.0",
         "45.97999954223633"
        ],
        [
         "18",
         "115000.0",
         "45.97999954223633"
        ],
        [
         "19",
         "115000.0",
         "45.97999954223633"
        ],
        [
         "20",
         "115000.0",
         "45.97999954223633"
        ],
        [
         "21",
         "115000.0",
         "45.97999954223633"
        ],
        [
         "22",
         "115000.0",
         "45.97999954223633"
        ],
        [
         "23",
         "115000.0",
         "45.97999954223633"
        ],
        [
         "24",
         "115000.0",
         "45.97999954223633"
        ],
        [
         "25",
         "115000.0",
         "45.97999954223633"
        ],
        [
         "26",
         "115000.0",
         "45.97999954223633"
        ],
        [
         "27",
         "115000.0",
         "45.97999954223633"
        ],
        [
         "28",
         "109500.0",
         "45.97999954223633"
        ],
        [
         "29",
         "115000.0",
         "45.97999954223633"
        ],
        [
         "30",
         "115000.0",
         "45.97999954223633"
        ]
       ],
       "shape": {
        "columns": 2,
        "rows": 31
       }
      },
      "text/html": [
       "<div>\n",
       "<style scoped>\n",
       "    .dataframe tbody tr th:only-of-type {\n",
       "        vertical-align: middle;\n",
       "    }\n",
       "\n",
       "    .dataframe tbody tr th {\n",
       "        vertical-align: top;\n",
       "    }\n",
       "\n",
       "    .dataframe thead th {\n",
       "        text-align: right;\n",
       "    }\n",
       "</style>\n",
       "<table border=\"1\" class=\"dataframe\">\n",
       "  <thead>\n",
       "    <tr style=\"text-align: right;\">\n",
       "      <th></th>\n",
       "      <th>salary_year_avg</th>\n",
       "      <th>salary_hour_avg</th>\n",
       "    </tr>\n",
       "  </thead>\n",
       "  <tbody>\n",
       "    <tr>\n",
       "      <th>0</th>\n",
       "      <td>115000.0</td>\n",
       "      <td>45.98</td>\n",
       "    </tr>\n",
       "    <tr>\n",
       "      <th>1</th>\n",
       "      <td>115000.0</td>\n",
       "      <td>45.98</td>\n",
       "    </tr>\n",
       "    <tr>\n",
       "      <th>2</th>\n",
       "      <td>115000.0</td>\n",
       "      <td>45.98</td>\n",
       "    </tr>\n",
       "    <tr>\n",
       "      <th>3</th>\n",
       "      <td>115000.0</td>\n",
       "      <td>45.98</td>\n",
       "    </tr>\n",
       "    <tr>\n",
       "      <th>4</th>\n",
       "      <td>115000.0</td>\n",
       "      <td>45.98</td>\n",
       "    </tr>\n",
       "    <tr>\n",
       "      <th>5</th>\n",
       "      <td>115000.0</td>\n",
       "      <td>45.98</td>\n",
       "    </tr>\n",
       "    <tr>\n",
       "      <th>6</th>\n",
       "      <td>115000.0</td>\n",
       "      <td>45.98</td>\n",
       "    </tr>\n",
       "    <tr>\n",
       "      <th>7</th>\n",
       "      <td>115000.0</td>\n",
       "      <td>45.98</td>\n",
       "    </tr>\n",
       "    <tr>\n",
       "      <th>8</th>\n",
       "      <td>115000.0</td>\n",
       "      <td>45.98</td>\n",
       "    </tr>\n",
       "    <tr>\n",
       "      <th>9</th>\n",
       "      <td>115000.0</td>\n",
       "      <td>45.98</td>\n",
       "    </tr>\n",
       "    <tr>\n",
       "      <th>10</th>\n",
       "      <td>115000.0</td>\n",
       "      <td>45.98</td>\n",
       "    </tr>\n",
       "    <tr>\n",
       "      <th>11</th>\n",
       "      <td>115000.0</td>\n",
       "      <td>45.98</td>\n",
       "    </tr>\n",
       "    <tr>\n",
       "      <th>12</th>\n",
       "      <td>115000.0</td>\n",
       "      <td>45.98</td>\n",
       "    </tr>\n",
       "    <tr>\n",
       "      <th>13</th>\n",
       "      <td>115000.0</td>\n",
       "      <td>45.98</td>\n",
       "    </tr>\n",
       "    <tr>\n",
       "      <th>14</th>\n",
       "      <td>115000.0</td>\n",
       "      <td>45.98</td>\n",
       "    </tr>\n",
       "    <tr>\n",
       "      <th>15</th>\n",
       "      <td>115000.0</td>\n",
       "      <td>45.98</td>\n",
       "    </tr>\n",
       "    <tr>\n",
       "      <th>16</th>\n",
       "      <td>115000.0</td>\n",
       "      <td>45.98</td>\n",
       "    </tr>\n",
       "    <tr>\n",
       "      <th>17</th>\n",
       "      <td>115000.0</td>\n",
       "      <td>45.98</td>\n",
       "    </tr>\n",
       "    <tr>\n",
       "      <th>18</th>\n",
       "      <td>115000.0</td>\n",
       "      <td>45.98</td>\n",
       "    </tr>\n",
       "    <tr>\n",
       "      <th>19</th>\n",
       "      <td>115000.0</td>\n",
       "      <td>45.98</td>\n",
       "    </tr>\n",
       "    <tr>\n",
       "      <th>20</th>\n",
       "      <td>115000.0</td>\n",
       "      <td>45.98</td>\n",
       "    </tr>\n",
       "    <tr>\n",
       "      <th>21</th>\n",
       "      <td>115000.0</td>\n",
       "      <td>45.98</td>\n",
       "    </tr>\n",
       "    <tr>\n",
       "      <th>22</th>\n",
       "      <td>115000.0</td>\n",
       "      <td>45.98</td>\n",
       "    </tr>\n",
       "    <tr>\n",
       "      <th>23</th>\n",
       "      <td>115000.0</td>\n",
       "      <td>45.98</td>\n",
       "    </tr>\n",
       "    <tr>\n",
       "      <th>24</th>\n",
       "      <td>115000.0</td>\n",
       "      <td>45.98</td>\n",
       "    </tr>\n",
       "    <tr>\n",
       "      <th>25</th>\n",
       "      <td>115000.0</td>\n",
       "      <td>45.98</td>\n",
       "    </tr>\n",
       "    <tr>\n",
       "      <th>26</th>\n",
       "      <td>115000.0</td>\n",
       "      <td>45.98</td>\n",
       "    </tr>\n",
       "    <tr>\n",
       "      <th>27</th>\n",
       "      <td>115000.0</td>\n",
       "      <td>45.98</td>\n",
       "    </tr>\n",
       "    <tr>\n",
       "      <th>28</th>\n",
       "      <td>109500.0</td>\n",
       "      <td>45.98</td>\n",
       "    </tr>\n",
       "    <tr>\n",
       "      <th>29</th>\n",
       "      <td>115000.0</td>\n",
       "      <td>45.98</td>\n",
       "    </tr>\n",
       "    <tr>\n",
       "      <th>30</th>\n",
       "      <td>115000.0</td>\n",
       "      <td>45.98</td>\n",
       "    </tr>\n",
       "  </tbody>\n",
       "</table>\n",
       "</div>"
      ],
      "text/plain": [
       "    salary_year_avg  salary_hour_avg\n",
       "0          115000.0            45.98\n",
       "1          115000.0            45.98\n",
       "2          115000.0            45.98\n",
       "3          115000.0            45.98\n",
       "4          115000.0            45.98\n",
       "5          115000.0            45.98\n",
       "6          115000.0            45.98\n",
       "7          115000.0            45.98\n",
       "8          115000.0            45.98\n",
       "9          115000.0            45.98\n",
       "10         115000.0            45.98\n",
       "11         115000.0            45.98\n",
       "12         115000.0            45.98\n",
       "13         115000.0            45.98\n",
       "14         115000.0            45.98\n",
       "15         115000.0            45.98\n",
       "16         115000.0            45.98\n",
       "17         115000.0            45.98\n",
       "18         115000.0            45.98\n",
       "19         115000.0            45.98\n",
       "20         115000.0            45.98\n",
       "21         115000.0            45.98\n",
       "22         115000.0            45.98\n",
       "23         115000.0            45.98\n",
       "24         115000.0            45.98\n",
       "25         115000.0            45.98\n",
       "26         115000.0            45.98\n",
       "27         115000.0            45.98\n",
       "28         109500.0            45.98\n",
       "29         115000.0            45.98\n",
       "30         115000.0            45.98"
      ]
     },
     "execution_count": 41,
     "metadata": {},
     "output_type": "execute_result"
    }
   ],
   "source": [
    "df_filled['salary_year_avg'] = df_filled['salary_year_avg'].fillna(median_salary_year)\n",
    "df_filled['salary_hour_avg'] = df_filled['salary_hour_avg'].fillna(median_salary_hour)\n",
    "df_filled.loc[:30,'salary_year_avg':'salary_hour_avg']\n"
   ]
  },
  {
   "cell_type": "code",
   "execution_count": 43,
   "id": "efbde3d1",
   "metadata": {},
   "outputs": [],
   "source": [
    "df_unique = df_filled"
   ]
  }
 ],
 "metadata": {
  "kernelspec": {
   "display_name": "python_course",
   "language": "python",
   "name": "python3"
  },
  "language_info": {
   "codemirror_mode": {
    "name": "ipython",
    "version": 3
   },
   "file_extension": ".py",
   "mimetype": "text/x-python",
   "name": "python",
   "nbconvert_exporter": "python",
   "pygments_lexer": "ipython3",
   "version": "3.11.13"
  }
 },
 "nbformat": 4,
 "nbformat_minor": 5
}
